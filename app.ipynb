{
 "cells": [
  {
   "cell_type": "code",
   "execution_count": 1,
   "metadata": {},
   "outputs": [],
   "source": [
    "from collections import *\n",
    "from communication import *\n",
    "\n",
    "device_list = defaultdict(lambda:[])\n",
    "def run(command:str):\n",
    "    command = command.split(\" \")\n",
    "    if len(command) < 3:\n",
    "        print(\"Error : Invalid command syntax\")\n",
    "        return\n",
    "\n",
    "    if command[0] == \"ADD\":\n",
    "        if command[1] == \"COMPUTER\" or command[1] == \"REPEATER\":\n",
    "            print(add(device_list, command[1], command[2]))\n",
    "        else:\n",
    "            print(\"Error: Invalid command syntax\")\n",
    "    \n",
    "    if command[0] == \"SET_DEVICE_STRENGTH\":\n",
    "            print(set_device_strength(device_list, command[1], command[2]))\n",
    "\n",
    "    if command[0] == \"CONNECT\":\n",
    "            print(connect(device_list, command[1], command[2]))\n",
    "\n",
    "    if command[0] == \"INFO_ROUTE\":\n",
    "        print(info_route(device_list, command[1], command[2]))"
   ]
  },
  {
   "cell_type": "code",
   "execution_count": 2,
   "metadata": {},
   "outputs": [
    {
     "name": "stdout",
     "output_type": "stream",
     "text": [
      "Successfully added A1.\n"
     ]
    }
   ],
   "source": [
    "n=\"ADD COMPUTER A1\"\n",
    "run(n)"
   ]
  },
  {
   "cell_type": "code",
   "execution_count": 3,
   "metadata": {},
   "outputs": [
    {
     "name": "stdout",
     "output_type": "stream",
     "text": [
      "Successfully added A2.\n"
     ]
    }
   ],
   "source": [
    "n=\"ADD COMPUTER A2\"\n",
    "run(n)"
   ]
  },
  {
   "cell_type": "code",
   "execution_count": 4,
   "metadata": {},
   "outputs": [
    {
     "name": "stdout",
     "output_type": "stream",
     "text": [
      "Successfully added A3.\n"
     ]
    }
   ],
   "source": [
    "n=\"ADD COMPUTER A3\"\n",
    "run(n)"
   ]
  },
  {
   "cell_type": "code",
   "execution_count": 5,
   "metadata": {},
   "outputs": [
    {
     "name": "stdout",
     "output_type": "stream",
     "text": [
      "Error : Invalid command syntax\n"
     ]
    }
   ],
   "source": [
    "n=\"ADD\"\n",
    "run(n)"
   ]
  },
  {
   "cell_type": "code",
   "execution_count": 6,
   "metadata": {},
   "outputs": [
    {
     "name": "stdout",
     "output_type": "stream",
     "text": [
      "Error: Invalid command syntax\n"
     ]
    }
   ],
   "source": [
    "n=\"ADD PHONE A1\"\n",
    "run(n)"
   ]
  },
  {
   "cell_type": "code",
   "execution_count": 7,
   "metadata": {},
   "outputs": [
    {
     "name": "stdout",
     "output_type": "stream",
     "text": [
      "Successfully added A4.\n"
     ]
    }
   ],
   "source": [
    "n=\"ADD COMPUTER A4\"\n",
    "run(n)"
   ]
  },
  {
   "cell_type": "code",
   "execution_count": 8,
   "metadata": {},
   "outputs": [
    {
     "name": "stdout",
     "output_type": "stream",
     "text": [
      "Successfully added A5.\n"
     ]
    }
   ],
   "source": [
    "n=\"ADD COMPUTER A5\"\n",
    "run(n)"
   ]
  },
  {
   "cell_type": "code",
   "execution_count": 9,
   "metadata": {},
   "outputs": [
    {
     "name": "stdout",
     "output_type": "stream",
     "text": [
      "Successfully added A6.\n"
     ]
    }
   ],
   "source": [
    "n=\"ADD COMPUTER A6\"\n",
    "run(n)"
   ]
  },
  {
   "cell_type": "code",
   "execution_count": 10,
   "metadata": {},
   "outputs": [
    {
     "name": "stdout",
     "output_type": "stream",
     "text": [
      "Successfully added R1.\n"
     ]
    }
   ],
   "source": [
    "n=\"ADD REPEATER R1\"\n",
    "run(n)"
   ]
  },
  {
   "cell_type": "code",
   "execution_count": 11,
   "metadata": {},
   "outputs": [
    {
     "name": "stdout",
     "output_type": "stream",
     "text": [
      "Error: Invalid command syntax.\n"
     ]
    }
   ],
   "source": [
    "n=\"SET_DEVICE_STRENGTH A1 HELLOWORLD\"\n",
    "run(n)"
   ]
  },
  {
   "cell_type": "code",
   "execution_count": 12,
   "metadata": {},
   "outputs": [
    {
     "name": "stdout",
     "output_type": "stream",
     "text": [
      "Successfully defined strength.\n"
     ]
    }
   ],
   "source": [
    "n=\"SET_DEVICE_STRENGTH A1 2\"\n",
    "run(n)"
   ]
  },
  {
   "cell_type": "code",
   "execution_count": 13,
   "metadata": {},
   "outputs": [
    {
     "name": "stdout",
     "output_type": "stream",
     "text": [
      "Error: Strength cannot be defined for repeater.\n"
     ]
    }
   ],
   "source": [
    "n=\"SET_DEVICE_STRENGTH R1 2\"\n",
    "run(n)"
   ]
  },
  {
   "cell_type": "code",
   "execution_count": 14,
   "metadata": {},
   "outputs": [
    {
     "name": "stdout",
     "output_type": "stream",
     "text": [
      "Error: Strength value cannot be negative.\n"
     ]
    }
   ],
   "source": [
    "n=\"SET_DEVICE_STRENGTH A2 -5\"\n",
    "run(n)"
   ]
  },
  {
   "cell_type": "code",
   "execution_count": 15,
   "metadata": {},
   "outputs": [
    {
     "name": "stdout",
     "output_type": "stream",
     "text": [
      "Successfully Connected.\n"
     ]
    }
   ],
   "source": [
    "n=\"CONNECT A1 A2\"\n",
    "run(n)"
   ]
  },
  {
   "cell_type": "code",
   "execution_count": 16,
   "metadata": {},
   "outputs": [
    {
     "name": "stdout",
     "output_type": "stream",
     "text": [
      "Successfully Connected.\n"
     ]
    }
   ],
   "source": [
    "n=\"CONNECT A1 A3\"\n",
    "run(n)"
   ]
  },
  {
   "cell_type": "code",
   "execution_count": 17,
   "metadata": {},
   "outputs": [
    {
     "name": "stdout",
     "output_type": "stream",
     "text": [
      "Error: Cannot connect device to itself.\n"
     ]
    }
   ],
   "source": [
    "n=\"CONNECT A1 A1\"\n",
    "run(n)"
   ]
  },
  {
   "cell_type": "code",
   "execution_count": 18,
   "metadata": {},
   "outputs": [
    {
     "name": "stdout",
     "output_type": "stream",
     "text": [
      "Error: Devices are already connected.\n"
     ]
    }
   ],
   "source": [
    "n=\"CONNECT A1 A2\"\n",
    "run(n)"
   ]
  },
  {
   "cell_type": "code",
   "execution_count": 19,
   "metadata": {},
   "outputs": [
    {
     "name": "stdout",
     "output_type": "stream",
     "text": [
      "Successfully Connected.\n"
     ]
    }
   ],
   "source": [
    "n=\"CONNECT A5 A4\"\n",
    "run(n)"
   ]
  },
  {
   "cell_type": "code",
   "execution_count": 20,
   "metadata": {},
   "outputs": [
    {
     "name": "stdout",
     "output_type": "stream",
     "text": [
      "Successfully Connected.\n"
     ]
    }
   ],
   "source": [
    "n=\"CONNECT R1 A2\"\n",
    "run(n)"
   ]
  },
  {
   "cell_type": "code",
   "execution_count": 21,
   "metadata": {},
   "outputs": [
    {
     "name": "stdout",
     "output_type": "stream",
     "text": [
      "Successfully Connected.\n"
     ]
    }
   ],
   "source": [
    "n=\"CONNECT R1 A5\"\n",
    "run(n)"
   ]
  },
  {
   "cell_type": "code",
   "execution_count": 22,
   "metadata": {},
   "outputs": [
    {
     "name": "stdout",
     "output_type": "stream",
     "text": [
      "Error : Invalid command syntax\n"
     ]
    }
   ],
   "source": [
    "n=\"CONNECT A1\"\n",
    "run(n)"
   ]
  },
  {
   "cell_type": "code",
   "execution_count": 23,
   "metadata": {},
   "outputs": [
    {
     "name": "stdout",
     "output_type": "stream",
     "text": [
      "Error: node not found\n"
     ]
    }
   ],
   "source": [
    "n=\"CONNECT A8 A1\"\n",
    "run(n)"
   ]
  },
  {
   "cell_type": "code",
   "execution_count": 24,
   "metadata": {},
   "outputs": [
    {
     "name": "stdout",
     "output_type": "stream",
     "text": [
      "Successfully Connected.\n"
     ]
    }
   ],
   "source": [
    "n=\"CONNECT A2 A4\"\n",
    "run(n)"
   ]
  },
  {
   "cell_type": "code",
   "execution_count": 25,
   "metadata": {},
   "outputs": [
    {
     "name": "stdout",
     "output_type": "stream",
     "text": [
      "A1 -> A2 -> R1 -> A5 -> A4\n",
      "A1 -> A2 -> A4\n",
      "None\n"
     ]
    }
   ],
   "source": [
    "n=\"INFO_ROUTE A1 A4\"\n",
    "run(n)"
   ]
  },
  {
   "cell_type": "code",
   "execution_count": 26,
   "metadata": {},
   "outputs": [
    {
     "name": "stdout",
     "output_type": "stream",
     "text": [
      "A1 -> A2 -> R1 -> A5\n",
      "A1 -> A2 -> A4 -> A5\n",
      "None\n"
     ]
    }
   ],
   "source": [
    "n=\"INFO_ROUTE A1 A5\"\n",
    "run(n)"
   ]
  },
  {
   "cell_type": "code",
   "execution_count": 34,
   "metadata": {},
   "outputs": [
    {
     "name": "stdout",
     "output_type": "stream",
     "text": [
      "A4 -> A5 -> R1 -> A2 -> A1 -> A3\n",
      "None\n"
     ]
    }
   ],
   "source": [
    "n=\"INFO_ROUTE A4 A3\"\n",
    "run(n)"
   ]
  },
  {
   "cell_type": "code",
   "execution_count": 28,
   "metadata": {},
   "outputs": [
    {
     "name": "stdout",
     "output_type": "stream",
     "text": [
      "A1 -> A1\n"
     ]
    }
   ],
   "source": [
    "n=\"INFO_ROUTE A1 A1\"\n",
    "run(n)"
   ]
  },
  {
   "cell_type": "code",
   "execution_count": 29,
   "metadata": {},
   "outputs": [
    {
     "name": "stdout",
     "output_type": "stream",
     "text": [
      "Error: Route not found!\n",
      "None\n"
     ]
    }
   ],
   "source": [
    "n=\"INFO_ROUTE A1 A6\"\n",
    "run(n)"
   ]
  },
  {
   "cell_type": "code",
   "execution_count": 30,
   "metadata": {},
   "outputs": [
    {
     "name": "stdout",
     "output_type": "stream",
     "text": [
      "Error: Route cannot be calculated with a repeater.\n"
     ]
    }
   ],
   "source": [
    "n=\"INFO_ROUTE A2 R1\"\n",
    "run(n)"
   ]
  },
  {
   "cell_type": "code",
   "execution_count": 31,
   "metadata": {},
   "outputs": [
    {
     "name": "stdout",
     "output_type": "stream",
     "text": [
      "Error : Invalid command syntax\n"
     ]
    }
   ],
   "source": [
    "n=\"INFO_ROUTE A3\"\n",
    "run(n)"
   ]
  },
  {
   "cell_type": "code",
   "execution_count": 32,
   "metadata": {},
   "outputs": [
    {
     "name": "stdout",
     "output_type": "stream",
     "text": [
      "Error : Invalid command syntax\n"
     ]
    }
   ],
   "source": [
    "n=\"INFO_ROUTE\"\n",
    "run(n)"
   ]
  },
  {
   "cell_type": "code",
   "execution_count": 33,
   "metadata": {},
   "outputs": [
    {
     "name": "stdout",
     "output_type": "stream",
     "text": [
      "Error: node not found.\n"
     ]
    }
   ],
   "source": [
    "n=\"INFO_ROUTE A1 A10\"\n",
    "run(n)"
   ]
  }
 ],
 "metadata": {
  "kernelspec": {
   "display_name": "base",
   "language": "python",
   "name": "python3"
  },
  "language_info": {
   "codemirror_mode": {
    "name": "ipython",
    "version": 3
   },
   "file_extension": ".py",
   "mimetype": "text/x-python",
   "name": "python",
   "nbconvert_exporter": "python",
   "pygments_lexer": "ipython3",
   "version": "3.9.7"
  },
  "orig_nbformat": 4,
  "vscode": {
   "interpreter": {
    "hash": "0ac7ee38b651cd756b663ccb6545cb22d8e74deaa3e1a6fbf8dd6029ac7e6bc3"
   }
  }
 },
 "nbformat": 4,
 "nbformat_minor": 2
}
